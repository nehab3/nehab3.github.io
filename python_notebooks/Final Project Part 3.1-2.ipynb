{
 "cells": [
  {
   "cell_type": "markdown",
   "id": "c8c5fd9b",
   "metadata": {},
   "source": [
    "## Group 6 Final Project Part 3  \n",
    "\n",
    "Group members : Neha Bharadwaj(nehab3) & Asmita Khode (akhode2)"
   ]
  },
  {
   "cell_type": "code",
   "execution_count": 1,
   "id": "8d41dd64",
   "metadata": {},
   "outputs": [],
   "source": [
    "import pandas as pd\n",
    "import matplotlib.pyplot as plt\n",
    "import numpy as np\n",
    "import altair as alt"
   ]
  },
  {
   "cell_type": "code",
   "execution_count": 2,
   "id": "489a8015",
   "metadata": {},
   "outputs": [],
   "source": [
    "ev_county_data = pd.read_csv('https://data.wa.gov/api/views/3d5d-sdqb/rows.csv?accessType=DOWNLOAD')\n",
    "ev_county_data = ev_county_data.dropna()\n",
    "ev_county_data = ev_county_data[ev_county_data['State'] == 'WA']\n",
    "ev_county_data = ev_county_data[ev_county_data['County'] != 'King']"
   ]
  },
  {
   "cell_type": "code",
   "execution_count": 3,
   "id": "843f2c3f",
   "metadata": {},
   "outputs": [],
   "source": [
    "county_df = ev_county_data.groupby(['State','County'])[['Battery Electric Vehicles (BEVs)' , 'Plug-In Hybrid Electric Vehicles (PHEVs)']].sum().reset_index()\n",
    "county_df['Total'] = county_df['Battery Electric Vehicles (BEVs)'] + county_df['Plug-In Hybrid Electric Vehicles (PHEVs)']"
   ]
  },
  {
   "cell_type": "code",
   "execution_count": 4,
   "id": "0c1e1259",
   "metadata": {},
   "outputs": [],
   "source": [
    "brush = alt.selection_interval(encodings=['x','y'])\n"
   ]
  },
  {
   "cell_type": "code",
   "execution_count": 5,
   "id": "b4c3cfd5",
   "metadata": {},
   "outputs": [
    {
     "name": "stderr",
     "output_type": "stream",
     "text": [
      "C:\\Users\\bhara\\anaconda3\\envs\\DataViz\\lib\\site-packages\\altair\\utils\\core.py:317: FutureWarning: iteritems is deprecated and will be removed in a future version. Use .items instead.\n",
      "  for col_name, dtype in df.dtypes.iteritems():\n"
     ]
    },
    {
     "data": {
      "text/html": [
       "\n",
       "<div id=\"altair-viz-ac01691f68704c07bd5bed6a7d8b34e9\"></div>\n",
       "<script type=\"text/javascript\">\n",
       "  var VEGA_DEBUG = (typeof VEGA_DEBUG == \"undefined\") ? {} : VEGA_DEBUG;\n",
       "  (function(spec, embedOpt){\n",
       "    let outputDiv = document.currentScript.previousElementSibling;\n",
       "    if (outputDiv.id !== \"altair-viz-ac01691f68704c07bd5bed6a7d8b34e9\") {\n",
       "      outputDiv = document.getElementById(\"altair-viz-ac01691f68704c07bd5bed6a7d8b34e9\");\n",
       "    }\n",
       "    const paths = {\n",
       "      \"vega\": \"https://cdn.jsdelivr.net/npm//vega@5?noext\",\n",
       "      \"vega-lib\": \"https://cdn.jsdelivr.net/npm//vega-lib?noext\",\n",
       "      \"vega-lite\": \"https://cdn.jsdelivr.net/npm//vega-lite@4.17.0?noext\",\n",
       "      \"vega-embed\": \"https://cdn.jsdelivr.net/npm//vega-embed@6?noext\",\n",
       "    };\n",
       "\n",
       "    function maybeLoadScript(lib, version) {\n",
       "      var key = `${lib.replace(\"-\", \"\")}_version`;\n",
       "      return (VEGA_DEBUG[key] == version) ?\n",
       "        Promise.resolve(paths[lib]) :\n",
       "        new Promise(function(resolve, reject) {\n",
       "          var s = document.createElement('script');\n",
       "          document.getElementsByTagName(\"head\")[0].appendChild(s);\n",
       "          s.async = true;\n",
       "          s.onload = () => {\n",
       "            VEGA_DEBUG[key] = version;\n",
       "            return resolve(paths[lib]);\n",
       "          };\n",
       "          s.onerror = () => reject(`Error loading script: ${paths[lib]}`);\n",
       "          s.src = paths[lib];\n",
       "        });\n",
       "    }\n",
       "\n",
       "    function showError(err) {\n",
       "      outputDiv.innerHTML = `<div class=\"error\" style=\"color:red;\">${err}</div>`;\n",
       "      throw err;\n",
       "    }\n",
       "\n",
       "    function displayChart(vegaEmbed) {\n",
       "      vegaEmbed(outputDiv, spec, embedOpt)\n",
       "        .catch(err => showError(`Javascript Error: ${err.message}<br>This usually means there's a typo in your chart specification. See the javascript console for the full traceback.`));\n",
       "    }\n",
       "\n",
       "    if(typeof define === \"function\" && define.amd) {\n",
       "      requirejs.config({paths});\n",
       "      require([\"vega-embed\"], displayChart, err => showError(`Error loading script: ${err.message}`));\n",
       "    } else {\n",
       "      maybeLoadScript(\"vega\", \"5\")\n",
       "        .then(() => maybeLoadScript(\"vega-lite\", \"4.17.0\"))\n",
       "        .then(() => maybeLoadScript(\"vega-embed\", \"6\"))\n",
       "        .catch(showError)\n",
       "        .then(() => displayChart(vegaEmbed));\n",
       "    }\n",
       "  })({\"config\": {\"view\": {\"continuousWidth\": 400, \"continuousHeight\": 300}}, \"vconcat\": [{\"mark\": \"point\", \"encoding\": {\"tooltip\": [{\"field\": \"County\", \"type\": \"nominal\"}, {\"field\": \"Total\", \"type\": \"quantitative\"}], \"x\": {\"field\": \"County\", \"type\": \"nominal\"}, \"y\": {\"field\": \"Total\", \"type\": \"quantitative\"}}, \"selection\": {\"selector001\": {\"type\": \"interval\", \"encodings\": [\"x\", \"y\"]}}, \"title\": \"Total EV Vehicles By County in WA\"}, {\"layer\": [{\"mark\": \"bar\", \"encoding\": {\"color\": {\"legend\": {\"description\": \"ABC\", \"fillColor\": \"Red\"}}, \"tooltip\": [{\"field\": \"County\", \"type\": \"nominal\"}, {\"field\": \"Battery Electric Vehicles (BEVs)\", \"type\": \"quantitative\"}], \"x\": {\"field\": \"County\", \"type\": \"nominal\"}, \"y\": {\"field\": \"Battery Electric Vehicles (BEVs)\", \"type\": \"quantitative\"}}}, {\"mark\": \"bar\", \"encoding\": {\"color\": {\"value\": \"red\"}, \"tooltip\": [{\"field\": \"County\", \"type\": \"nominal\"}, {\"field\": \"Plug-In Hybrid Electric Vehicles (PHEVs)\", \"type\": \"quantitative\"}], \"x\": {\"field\": \"County\", \"type\": \"nominal\"}, \"y\": {\"field\": \"Plug-In Hybrid Electric Vehicles (PHEVs)\", \"type\": \"quantitative\"}}}], \"title\": \"Number of Plugin vs Battery EVs\", \"transform\": [{\"filter\": {\"selection\": \"selector001\"}}]}], \"data\": {\"name\": \"data-0b862e12e02419821fbe6b693d29e4c4\"}, \"$schema\": \"https://vega.github.io/schema/vega-lite/v4.17.0.json\", \"datasets\": {\"data-0b862e12e02419821fbe6b693d29e4c4\": [{\"State\": \"WA\", \"County\": \"Adams\", \"Battery Electric Vehicles (BEVs)\": 718, \"Plug-In Hybrid Electric Vehicles (PHEVs)\": 545, \"Total\": 1263}, {\"State\": \"WA\", \"County\": \"Asotin\", \"Battery Electric Vehicles (BEVs)\": 1156, \"Plug-In Hybrid Electric Vehicles (PHEVs)\": 853, \"Total\": 2009}, {\"State\": \"WA\", \"County\": \"Benton\", \"Battery Electric Vehicles (BEVs)\": 30671, \"Plug-In Hybrid Electric Vehicles (PHEVs)\": 23390, \"Total\": 54061}, {\"State\": \"WA\", \"County\": \"Chelan\", \"Battery Electric Vehicles (BEVs)\": 18542, \"Plug-In Hybrid Electric Vehicles (PHEVs)\": 5970, \"Total\": 24512}, {\"State\": \"WA\", \"County\": \"Clallam\", \"Battery Electric Vehicles (BEVs)\": 18160, \"Plug-In Hybrid Electric Vehicles (PHEVs)\": 12378, \"Total\": 30538}, {\"State\": \"WA\", \"County\": \"Clark\", \"Battery Electric Vehicles (BEVs)\": 166594, \"Plug-In Hybrid Electric Vehicles (PHEVs)\": 83533, \"Total\": 250127}, {\"State\": \"WA\", \"County\": \"Columbia\", \"Battery Electric Vehicles (BEVs)\": 277, \"Plug-In Hybrid Electric Vehicles (PHEVs)\": 133, \"Total\": 410}, {\"State\": \"WA\", \"County\": \"Cowlitz\", \"Battery Electric Vehicles (BEVs)\": 12369, \"Plug-In Hybrid Electric Vehicles (PHEVs)\": 8652, \"Total\": 21021}, {\"State\": \"WA\", \"County\": \"Douglas\", \"Battery Electric Vehicles (BEVs)\": 5902, \"Plug-In Hybrid Electric Vehicles (PHEVs)\": 3091, \"Total\": 8993}, {\"State\": \"WA\", \"County\": \"Ferry\", \"Battery Electric Vehicles (BEVs)\": 599, \"Plug-In Hybrid Electric Vehicles (PHEVs)\": 198, \"Total\": 797}, {\"State\": \"WA\", \"County\": \"Franklin\", \"Battery Electric Vehicles (BEVs)\": 6941, \"Plug-In Hybrid Electric Vehicles (PHEVs)\": 5922, \"Total\": 12863}, {\"State\": \"WA\", \"County\": \"Garfield\", \"Battery Electric Vehicles (BEVs)\": 33, \"Plug-In Hybrid Electric Vehicles (PHEVs)\": 109, \"Total\": 142}, {\"State\": \"WA\", \"County\": \"Grant\", \"Battery Electric Vehicles (BEVs)\": 6147, \"Plug-In Hybrid Electric Vehicles (PHEVs)\": 5151, \"Total\": 11298}, {\"State\": \"WA\", \"County\": \"Grays Harbor\", \"Battery Electric Vehicles (BEVs)\": 8755, \"Plug-In Hybrid Electric Vehicles (PHEVs)\": 7601, \"Total\": 16356}, {\"State\": \"WA\", \"County\": \"Island\", \"Battery Electric Vehicles (BEVs)\": 33478, \"Plug-In Hybrid Electric Vehicles (PHEVs)\": 19681, \"Total\": 53159}, {\"State\": \"WA\", \"County\": \"Jefferson\", \"Battery Electric Vehicles (BEVs)\": 19131, \"Plug-In Hybrid Electric Vehicles (PHEVs)\": 10517, \"Total\": 29648}, {\"State\": \"WA\", \"County\": \"Kitsap\", \"Battery Electric Vehicles (BEVs)\": 107216, \"Plug-In Hybrid Electric Vehicles (PHEVs)\": 51642, \"Total\": 158858}, {\"State\": \"WA\", \"County\": \"Kittitas\", \"Battery Electric Vehicles (BEVs)\": 9242, \"Plug-In Hybrid Electric Vehicles (PHEVs)\": 3776, \"Total\": 13018}, {\"State\": \"WA\", \"County\": \"Klickitat\", \"Battery Electric Vehicles (BEVs)\": 4210, \"Plug-In Hybrid Electric Vehicles (PHEVs)\": 2957, \"Total\": 7167}, {\"State\": \"WA\", \"County\": \"Lewis\", \"Battery Electric Vehicles (BEVs)\": 9730, \"Plug-In Hybrid Electric Vehicles (PHEVs)\": 7973, \"Total\": 17703}, {\"State\": \"WA\", \"County\": \"Lincoln\", \"Battery Electric Vehicles (BEVs)\": 350, \"Plug-In Hybrid Electric Vehicles (PHEVs)\": 785, \"Total\": 1135}, {\"State\": \"WA\", \"County\": \"Mason\", \"Battery Electric Vehicles (BEVs)\": 12725, \"Plug-In Hybrid Electric Vehicles (PHEVs)\": 9263, \"Total\": 21988}, {\"State\": \"WA\", \"County\": \"Okanogan\", \"Battery Electric Vehicles (BEVs)\": 3026, \"Plug-In Hybrid Electric Vehicles (PHEVs)\": 2365, \"Total\": 5391}, {\"State\": \"WA\", \"County\": \"Pacific\", \"Battery Electric Vehicles (BEVs)\": 2551, \"Plug-In Hybrid Electric Vehicles (PHEVs)\": 2774, \"Total\": 5325}, {\"State\": \"WA\", \"County\": \"Pend Oreille\", \"Battery Electric Vehicles (BEVs)\": 712, \"Plug-In Hybrid Electric Vehicles (PHEVs)\": 481, \"Total\": 1193}, {\"State\": \"WA\", \"County\": \"Pierce\", \"Battery Electric Vehicles (BEVs)\": 203838, \"Plug-In Hybrid Electric Vehicles (PHEVs)\": 122254, \"Total\": 326092}, {\"State\": \"WA\", \"County\": \"San Juan\", \"Battery Electric Vehicles (BEVs)\": 22657, \"Plug-In Hybrid Electric Vehicles (PHEVs)\": 7172, \"Total\": 29829}, {\"State\": \"WA\", \"County\": \"Skagit\", \"Battery Electric Vehicles (BEVs)\": 32865, \"Plug-In Hybrid Electric Vehicles (PHEVs)\": 16810, \"Total\": 49675}, {\"State\": \"WA\", \"County\": \"Skamania\", \"Battery Electric Vehicles (BEVs)\": 2657, \"Plug-In Hybrid Electric Vehicles (PHEVs)\": 1741, \"Total\": 4398}, {\"State\": \"WA\", \"County\": \"Snohomish\", \"Battery Electric Vehicles (BEVs)\": 356057, \"Plug-In Hybrid Electric Vehicles (PHEVs)\": 129691, \"Total\": 485748}, {\"State\": \"WA\", \"County\": \"Spokane\", \"Battery Electric Vehicles (BEVs)\": 62121, \"Plug-In Hybrid Electric Vehicles (PHEVs)\": 38273, \"Total\": 100394}, {\"State\": \"WA\", \"County\": \"Stevens\", \"Battery Electric Vehicles (BEVs)\": 2651, \"Plug-In Hybrid Electric Vehicles (PHEVs)\": 2636, \"Total\": 5287}, {\"State\": \"WA\", \"County\": \"Thurston\", \"Battery Electric Vehicles (BEVs)\": 91849, \"Plug-In Hybrid Electric Vehicles (PHEVs)\": 53187, \"Total\": 145036}, {\"State\": \"WA\", \"County\": \"Wahkiakum\", \"Battery Electric Vehicles (BEVs)\": 622, \"Plug-In Hybrid Electric Vehicles (PHEVs)\": 411, \"Total\": 1033}, {\"State\": \"WA\", \"County\": \"Walla Walla\", \"Battery Electric Vehicles (BEVs)\": 6419, \"Plug-In Hybrid Electric Vehicles (PHEVs)\": 4742, \"Total\": 11161}, {\"State\": \"WA\", \"County\": \"Whatcom\", \"Battery Electric Vehicles (BEVs)\": 83568, \"Plug-In Hybrid Electric Vehicles (PHEVs)\": 35664, \"Total\": 119232}, {\"State\": \"WA\", \"County\": \"Whitman\", \"Battery Electric Vehicles (BEVs)\": 3492, \"Plug-In Hybrid Electric Vehicles (PHEVs)\": 3208, \"Total\": 6700}, {\"State\": \"WA\", \"County\": \"Yakima\", \"Battery Electric Vehicles (BEVs)\": 12608, \"Plug-In Hybrid Electric Vehicles (PHEVs)\": 9359, \"Total\": 21967}]}}, {\"mode\": \"vega-lite\"});\n",
       "</script>"
      ],
      "text/plain": [
       "alt.VConcatChart(...)"
      ]
     },
     "execution_count": 5,
     "metadata": {},
     "output_type": "execute_result"
    }
   ],
   "source": [
    "main_chart = alt.Chart(county_df).mark_point().encode(\n",
    "    x='County',\n",
    "    y='Total',\n",
    "    tooltip=['County' , 'Total']\n",
    "    \n",
    ").properties(\n",
    "title = 'Total EV Vehicles By County in WA').add_selection(brush)\n",
    "\n",
    "chart1 = alt.Chart(county_df).mark_bar().encode(\n",
    "    x='County',\n",
    "    y='Battery Electric Vehicles (BEVs)',\n",
    "    tooltip=['County' , 'Battery Electric Vehicles (BEVs)'],\n",
    "    color = alt.Color(legend= alt.Legend(fillColor='Red' , description='ABC'))\n",
    "    \n",
    ")\n",
    "\n",
    "# Create the second chart\n",
    "chart2 = alt.Chart(county_df).mark_bar().encode(\n",
    "    x='County',\n",
    "    y='Plug-In Hybrid Electric Vehicles (PHEVs)',\n",
    "    color = alt.value('red'),\n",
    "    tooltip=['County' , 'Plug-In Hybrid Electric Vehicles (PHEVs)']\n",
    ")\n",
    "\n",
    "\n",
    "chart = chart1+chart2\n",
    "\n",
    "chart=chart.transform_filter(brush)\n",
    "chart = chart.properties(\n",
    "title = 'Number of Plugin vs Battery EVs')\n",
    "\n",
    "# Combine the charts side by side\n",
    "plot3 = main_chart & chart\n",
    "plot3"
   ]
  },
  {
   "cell_type": "markdown",
   "id": "f2a2b797",
   "metadata": {},
   "source": [
    "## Saving in Jekyll"
   ]
  },
  {
   "cell_type": "code",
   "execution_count": 6,
   "id": "01a48250",
   "metadata": {},
   "outputs": [],
   "source": [
    "myJekyllDir='C:/Users/bhara/nehab3.github.io/assets/json/'"
   ]
  },
  {
   "cell_type": "code",
   "execution_count": 9,
   "id": "52fe4d0b",
   "metadata": {},
   "outputs": [],
   "source": [
    "plot3.save(myJekyllDir+'Final_plot3.json')"
   ]
  },
  {
   "cell_type": "code",
   "execution_count": null,
   "id": "4762e72d",
   "metadata": {},
   "outputs": [],
   "source": []
  }
 ],
 "metadata": {
  "kernelspec": {
   "display_name": "Python 3 (ipykernel)",
   "language": "python",
   "name": "python3"
  },
  "language_info": {
   "codemirror_mode": {
    "name": "ipython",
    "version": 3
   },
   "file_extension": ".py",
   "mimetype": "text/x-python",
   "name": "python",
   "nbconvert_exporter": "python",
   "pygments_lexer": "ipython3",
   "version": "3.8.15"
  }
 },
 "nbformat": 4,
 "nbformat_minor": 5
}
